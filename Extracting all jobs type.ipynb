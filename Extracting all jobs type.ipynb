{
 "metadata": {
  "name": "",
  "signature": "sha256:bf8cbd86d4df46445ac4e4c642e9573301757b042d4f0581ea78aa5d24eb5322"
 },
 "nbformat": 3,
 "nbformat_minor": 0,
 "worksheets": [
  {
   "cells": [
    {
     "cell_type": "markdown",
     "metadata": {},
     "source": [
      "## Importing the necessary things and make the header to send request"
     ]
    },
    {
     "cell_type": "code",
     "collapsed": false,
     "input": [
      "import mechanize\n",
      "import re\n",
      "import cookielib\n",
      "from bs4 import BeautifulSoup as bs\n",
      "import html2text\n",
      "br = mechanize.Browser()\n",
      "cj = cookielib.LWPCookieJar()\n",
      "br.set_cookiejar(cj)\n",
      "br.set_handle_equiv(True)\n",
      "br.set_handle_gzip(True)\n",
      "br.set_handle_redirect(True)\n",
      "br.set_handle_referer(True)\n",
      "br.set_handle_robots(False)\n",
      "br.set_handle_refresh(mechanize._http.HTTPRefreshProcessor(), max_time=1)\n",
      "br.addheaders = [('User-agent', 'Chrome')]"
     ],
     "language": "python",
     "metadata": {},
     "outputs": []
    },
    {
     "cell_type": "markdown",
     "metadata": {},
     "source": [
      "## Fetching the site and get the data"
     ]
    },
    {
     "cell_type": "code",
     "collapsed": false,
     "input": [
      "bik = br.open('https://www.bls.gov/ooh/a-z-index.htm').read()"
     ],
     "language": "python",
     "metadata": {},
     "outputs": []
    },
    {
     "cell_type": "markdown",
     "metadata": {},
     "source": [
      "## Spliting the body and getting the az-index id content and finding the li content"
     ]
    },
    {
     "cell_type": "code",
     "collapsed": false,
     "input": [
      "soup = bs(bik)\n",
      "opbody = soup.find('div', {'id':'az-index'})\n",
      "op = opbody.find_all('li')"
     ],
     "language": "python",
     "metadata": {},
     "outputs": []
    },
    {
     "cell_type": "markdown",
     "metadata": {},
     "source": [
      "## Using an empty list to save the text on the li"
     ]
    },
    {
     "cell_type": "code",
     "collapsed": false,
     "input": [
      "jobs = []\n",
      "for i in op:\n",
      "    jobs.append(str(i.get_text().encode('utf-8').strip()))"
     ],
     "language": "python",
     "metadata": {},
     "outputs": []
    },
    {
     "cell_type": "markdown",
     "metadata": {},
     "source": [
      "## Printing list length"
     ]
    },
    {
     "cell_type": "code",
     "collapsed": false,
     "input": [
      "print len(jobs)"
     ],
     "language": "python",
     "metadata": {},
     "outputs": []
    },
    {
     "cell_type": "markdown",
     "metadata": {},
     "source": [
      "## Finding the first occurence of the ',' comma and splitting the line upto comma and save in first list"
     ]
    },
    {
     "cell_type": "code",
     "collapsed": false,
     "input": [
      "find = re.compile(r\"^[^,]*\")\n",
      "first = []"
     ],
     "language": "python",
     "metadata": {},
     "outputs": []
    },
    {
     "cell_type": "code",
     "collapsed": false,
     "input": [
      "for l in jobs:\n",
      "    first.append(re.search(find, l).group(0))"
     ],
     "language": "python",
     "metadata": {},
     "outputs": []
    },
    {
     "cell_type": "code",
     "collapsed": false,
     "input": [
      "wes = []\n",
      "woes = []\n",
      "wwes = []\n",
      "wwses = []\n",
      "omfg = []\n",
      "for l in first:\n",
      "    ln = len(l)\n",
      "    if l[ln-1] == 's' and l[ln-2] == 'e':\n",
      "        wes.append(l)\n",
      "        woes.append(l[:-2])\n",
      "    elif l[ln-1] == 's':\n",
      "        wwes.append(l)\n",
      "        omfg.append(l[:-1])\n",
      "        \n",
      "    else:\n",
      "        wwses.append(l)\n",
      "        \n",
      "print wwes[2]\n",
      "print omfg[2]\n",
      "print wes[3]\n",
      "print woes[3]\n",
      "print wwses[2]\n",
      "        \n"
     ],
     "language": "python",
     "metadata": {},
     "outputs": []
    },
    {
     "cell_type": "code",
     "collapsed": false,
     "input": [
      "for i in wwes:\n",
      "    print wwes"
     ],
     "language": "python",
     "metadata": {},
     "outputs": []
    },
    {
     "cell_type": "code",
     "collapsed": false,
     "input": [],
     "language": "python",
     "metadata": {},
     "outputs": []
    }
   ],
   "metadata": {}
  }
 ]
}