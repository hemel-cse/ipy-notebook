{
 "metadata": {
  "name": "",
  "signature": "sha256:9ab90ade8779b7180808e716a01d6d02718b0fbefd856e37f1eedc52dfba6b9a"
 },
 "nbformat": 3,
 "nbformat_minor": 0,
 "worksheets": [
  {
   "cells": [
    {
     "cell_type": "code",
     "collapsed": false,
     "input": [
      "import mechanize\n",
      "import cookielib\n",
      "from bs4 import BeautifulSoup as bs\n",
      "import html2text\n",
      "import re\n",
      "br = mechanize.Browser()\n",
      "cj = cookielib.LWPCookieJar()\n",
      "br.set_cookiejar(cj)\n",
      "br.set_handle_equiv(True)\n",
      "br.set_handle_gzip(True)\n",
      "br.set_handle_redirect(True)\n",
      "br.set_handle_referer(True)\n",
      "br.set_handle_robots(False)\n",
      "br.set_handle_refresh(mechanize._http.HTTPRefreshProcessor(), max_time=1)\n",
      "br.addheaders = [('User-agent', 'Chrome')]"
     ],
     "language": "python",
     "metadata": {},
     "outputs": [
      {
       "output_type": "stream",
       "stream": "stderr",
       "text": [
        "-c:10: UserWarning: gzip transfer encoding is experimental!\n"
       ]
      }
     ],
     "prompt_number": 90
    },
    {
     "cell_type": "code",
     "collapsed": false,
     "input": [
      "bik = br.open('http://www.datacentermap.com/canada/').read()"
     ],
     "language": "python",
     "metadata": {},
     "outputs": [],
     "prompt_number": 143
    },
    {
     "cell_type": "code",
     "collapsed": false,
     "input": [
      "soup = bs(bik)"
     ],
     "language": "python",
     "metadata": {},
     "outputs": [],
     "prompt_number": 144
    },
    {
     "cell_type": "code",
     "collapsed": false,
     "input": [
      "type(soup)"
     ],
     "language": "python",
     "metadata": {},
     "outputs": [
      {
       "metadata": {},
       "output_type": "pyout",
       "prompt_number": 145,
       "text": [
        "bs4.BeautifulSoup"
       ]
      }
     ],
     "prompt_number": 145
    },
    {
     "cell_type": "code",
     "collapsed": false,
     "input": [
      "opbody1 = soup.find('div', {'class': 'column1'});\n",
      "opbody2 = soup.find('div', {'class': 'column2'});\n",
      "opbody3 = soup.find('div', {'class': 'column3'});"
     ],
     "language": "python",
     "metadata": {},
     "outputs": [
      {
       "output_type": "stream",
       "stream": "stdout",
       "text": [
        "<div class=\"column1\"><a href=\"/canada/barrie/\" title=\"Barrie Colocation Data Centers\"><b>Barrie (1)</b></a><br/><a href=\"/canada/calgary/\" title=\"Calgary Colocation Data Centers\"><b>Calgary (10)</b></a><br/><a href=\"/canada/charlottetown/\" title=\"Charlottetown Colocation Data Centers\"><b>Charlottetown (2)</b></a><br/><a href=\"/canada/edmonton/\" title=\"Edmonton Colocation Data Centers\"><b>Edmonton (3)</b></a><br/><a href=\"/canada/halifax/\" title=\"Halifax Colocation Data Centers\"><b>Halifax (5)</b></a><br/><a href=\"/canada/hamilton/\" title=\"Hamilton Colocation Data Centers\"><b>Hamilton (5)</b></a><br/><a href=\"/canada/kamloops/\" title=\"Kamloops Colocation Data Centers\"><b>Kamloops (1)</b></a><br/><a href=\"/canada/kelowna/\" title=\"Kelowna Colocation Data Centers\"><b>Kelowna (4)</b></a><br/><a href=\"/canada/kingston/\" title=\"Kingston Colocation Data Centers\"><b>Kingston (1)</b></a><br/></div>\n",
        "\n",
        "\n",
        "<div class=\"column2\"><a href=\"/canada/lethbridge/\" title=\"Lethbridge Colocation Data Centers\"><b>Lethbridge (1)</b></a><br/><a href=\"/canada/mississauga/\" title=\"Mississauga Colocation Data Centers\"><b>Mississauga (7)</b></a><br/><a href=\"/canada/moncton/\" title=\"Moncton Colocation Data Centers\"><b>Moncton (1)</b></a><br/><a href=\"/canada/montreal/\" title=\"Montreal Colocation Data Centers\"><b>Montreal (29)</b></a><br/><a href=\"/canada/nanaimo/\" title=\"Nanaimo Colocation Data Centers\"><b>Nanaimo (1)</b></a><br/><a href=\"/canada/oakville/\" title=\"Oakville Colocation Data Centers\"><b>Oakville (1)</b></a><br/><a href=\"/canada/ottawa/\" title=\"Ottawa Colocation Data Centers\"><b>Ottawa (3)</b></a><br/><a href=\"/canada/quebec/\" title=\"Quebec Colocation Data Centers\"><b>Quebec (4)</b></a><br/><a href=\"/canada/saint-john/\" title=\"Saint John Colocation Data Centers\"><b>Saint John (2)</b></a><br/></div>\n",
        "<div class=\"column3\"><a href=\"/canada/saint-john/\" title=\"Saint John Colocation Data Centers\"><b>Saint John (2)</b></a><br/><a href=\"/canada/saskatoon/\" title=\"Saskatoon Colocation Data Centers\"><b>Saskatoon (1)</b></a><br/><a href=\"/canada/toronto/\" title=\"Toronto Colocation Data Centers\"><b>Toronto (42)</b></a><br/><a href=\"/canada/vancouver/\" title=\"Vancouver Colocation Data Centers\"><b>Vancouver (21)</b></a><br/><a href=\"/canada/victoria/\" title=\"Victoria Colocation Data Centers\"><b>Victoria (1)</b></a><br/><a href=\"/canada/waterloo/\" title=\"Waterloo Colocation Data Centers\"><b>Waterloo (2)</b></a><br/><a href=\"/canada/windsor/\" title=\"Windsor Colocation Data Centers\"><b>Windsor (1)</b></a><br/><a href=\"/canada/winnipeg/\" title=\"Winnipeg Colocation Data Centers\"><b>Winnipeg (6)</b></a><br/></div>\n"
       ]
      }
     ],
     "prompt_number": 149
    },
    {
     "cell_type": "code",
     "collapsed": false,
     "input": [
      "links = [];"
     ],
     "language": "python",
     "metadata": {},
     "outputs": [],
     "prompt_number": 150
    },
    {
     "cell_type": "code",
     "collapsed": false,
     "input": [
      "op1 = opbody1.find_all('a')\n",
      "op2 = opbody2.find_all('a')\n",
      "op3 = opbody3.find_all('a')"
     ],
     "language": "python",
     "metadata": {},
     "outputs": [],
     "prompt_number": 151
    },
    {
     "cell_type": "code",
     "collapsed": false,
     "input": [
      "for i in op1:\n",
      "    ll = \"http://www.datacentermap.com\"+i['href'];\n",
      "    links.append(ll)\n",
      "for i in op2:\n",
      "    ll = \"http://www.datacentermap.com\"+i['href'];\n",
      "    links.append(ll)\n",
      "for i in op3:\n",
      "    ll = \"http://www.datacentermap.com\"+i['href'];\n",
      "    links.append(ll)\n"
     ],
     "language": "python",
     "metadata": {},
     "outputs": [],
     "prompt_number": 152
    },
    {
     "cell_type": "code",
     "collapsed": false,
     "input": [
      "def dofun(li):\n",
      "    print li\n",
      "\n",
      "for i in links:\n",
      "    dofun(i)"
     ],
     "language": "python",
     "metadata": {},
     "outputs": [
      {
       "output_type": "stream",
       "stream": "stdout",
       "text": [
        "http://www.datacentermap.com/canada/barrie/\n",
        "http://www.datacentermap.com/canada/calgary/\n",
        "http://www.datacentermap.com/canada/charlottetown/\n",
        "http://www.datacentermap.com/canada/edmonton/\n",
        "http://www.datacentermap.com/canada/halifax/\n",
        "http://www.datacentermap.com/canada/hamilton/\n",
        "http://www.datacentermap.com/canada/kamloops/\n",
        "http://www.datacentermap.com/canada/kelowna/\n",
        "http://www.datacentermap.com/canada/kingston/\n",
        "http://www.datacentermap.com/canada/lethbridge/\n",
        "http://www.datacentermap.com/canada/mississauga/\n",
        "http://www.datacentermap.com/canada/moncton/\n",
        "http://www.datacentermap.com/canada/montreal/\n",
        "http://www.datacentermap.com/canada/nanaimo/\n",
        "http://www.datacentermap.com/canada/oakville/\n",
        "http://www.datacentermap.com/canada/ottawa/\n",
        "http://www.datacentermap.com/canada/quebec/\n",
        "http://www.datacentermap.com/canada/saint-john/\n",
        "http://www.datacentermap.com/canada/saint-john/\n",
        "http://www.datacentermap.com/canada/saskatoon/\n",
        "http://www.datacentermap.com/canada/toronto/\n",
        "http://www.datacentermap.com/canada/vancouver/\n",
        "http://www.datacentermap.com/canada/victoria/\n",
        "http://www.datacentermap.com/canada/waterloo/\n",
        "http://www.datacentermap.com/canada/windsor/\n",
        "http://www.datacentermap.com/canada/winnipeg/\n"
       ]
      }
     ],
     "prompt_number": 156
    },
    {
     "cell_type": "code",
     "collapsed": false,
     "input": [
      "pli = br.open('http://www.datacentermap.com/canada/hamilton/').read()"
     ],
     "language": "python",
     "metadata": {},
     "outputs": [],
     "prompt_number": 164
    },
    {
     "cell_type": "code",
     "collapsed": false,
     "input": [
      "sp = bs(pli)"
     ],
     "language": "python",
     "metadata": {},
     "outputs": [],
     "prompt_number": 165
    },
    {
     "cell_type": "code",
     "collapsed": false,
     "input": [
      "plbody = soup.findAll('div', {'class': 'DCColumn1'});\n",
      "print plbody"
     ],
     "language": "python",
     "metadata": {},
     "outputs": [
      {
       "output_type": "stream",
       "stream": "stdout",
       "text": [
        "[<div class=\"DCColumn1\">\\n<img height=\"12\" src=\"/img/icon1.gif\" title=\"Carrier neutral\"/> <a href=\"barrie-data-centre.html\" title=\"Barrie Data Centre (Cogeco Data Services Inc.)\"><h3>Barrie Data Centre</h3></a><br/>\\n<a class=\"black\" href=\"/company/cogeco-data-services-inc.html\">Cogeco Data Services Inc.</a><br/>\\r\\n\\t\\t\\t612 Welham Rd<br/>\\r\\n\\t\\t\\tL4N 0B7\\xa0Barrie<br/>\\r\\n\\t\\t\\tON, Canada<br/><br/>\\r\\n\\t\\t\\t \\xbb <a class=\"black\" href=\"/visit.html?view=datacenter&amp;id=barrie-data-centre\" target=\"_blank\">Visit website</a><br/>\\r\\n\\t\\t\\t \\xbb <a class=\"black\" href=\"barrie-data-centre.html\">View profile</a><br/>\\n</div>]\n"
       ]
      }
     ],
     "prompt_number": 173
    }
   ],
   "metadata": {}
  }
 ]
}